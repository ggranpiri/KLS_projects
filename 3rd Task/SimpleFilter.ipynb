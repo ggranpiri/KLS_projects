{
 "cells": [
  {
   "cell_type": "markdown",
   "metadata": {},
   "source": [
    "# Libraries"
   ]
  },
  {
   "cell_type": "code",
   "execution_count": 2,
   "metadata": {},
   "outputs": [],
   "source": [
    "import numpy as np\n",
    "from matplotlib import pyplot as plt"
   ]
  },
  {
   "cell_type": "markdown",
   "metadata": {},
   "source": [
    "# Filter\n",
    "\n",
    "Реализуем диагональный фильтр, посмотрим пару примеров с ним\n",
    "- реализуем функцию `filter(img)`, которая обратаывает изображение фильтром 3 на 3 для определения диагональных элементов;\n",
    "- затем проверим ее работу на данных MNIST для единиц и двоек."
   ]
  },
  {
   "cell_type": "code",
   "execution_count": 14,
   "metadata": {},
   "outputs": [],
   "source": [
    "def filter(img):\n",
    "    # TODO: Реализовать 3 на 3 фильтр выделение вертикальной полосы в середине фрагмента. НЕ ЗАБУДЬТЕ ПРО НОРМИРОВОЧНУЮ КОНСТАНТУ\n",
    "    matr = np.array([[1, 0, -0], [-0, 1, -0], [-0, -0, -1]])\n",
    "        \n",
    "    # Результат преобразования\n",
    "    ans = np.zeros((img.shape[0]-matr.shape[0]+1, img.shape[1]-2))\n",
    "\n",
    "    # Применим фильтр\n",
    "    for i in range(1, img.shape[0]-1):\n",
    "        for j in range(1, img.shape[1]-1):\n",
    "            # TODO: В новом изображении будет находится отклик на фильтр, \n",
    "            # т.е. сумма произведения фильтра на фрагмент изображения\n",
    "            ans[i-1, j-1] = np.sum(matr*img[i-1:i+2, j-1:j+2])\n",
    "\n",
    "    return ans\n"
   ]
  },
  {
   "cell_type": "code",
   "execution_count": 15,
   "metadata": {},
   "outputs": [
    {
     "name": "stdout",
     "output_type": "stream",
     "text": [
      "OK\n"
     ]
    }
   ],
   "source": [
    "# Простой тест для работы фильтра\n",
    "assert filter(np.eye(3))[0, 0] == 1\n",
    "\n",
    "\n",
    "print(\"OK\")"
   ]
  },
  {
   "cell_type": "markdown",
   "metadata": {},
   "source": [
    "## Данные MNIST\n",
    "\n",
    "Возьмем 2 изображения -- 1-ое для единицы, 2-ое для двойки и псмотрим на их матрицы яркости -- результата свертки."
   ]
  },
  {
   "cell_type": "code",
   "execution_count": 16,
   "metadata": {},
   "outputs": [],
   "source": [
    "X, y = np.load(\"../2nd Task/Mnist_X.npy\"), np.load(\"../2nd Task/Mnist_y.npy\")"
   ]
  },
  {
   "cell_type": "code",
   "execution_count": 17,
   "metadata": {},
   "outputs": [
    {
     "data": {
      "image/png": "[encoded data removed]",
      "text/plain": [
       "<Figure size 432x288 with 1 Axes>"
      ]
     },
     "metadata": {
      "needs_background": "light"
     },
     "output_type": "display_data"
    },
    {
     "data": {
      "image/png": "[encoded data removed]",
      "text/plain": [
       "<Figure size 432x288 with 1 Axes>"
      ]
     },
     "metadata": {
      "needs_background": "light"
     },
     "output_type": "display_data"
    }
   ],
   "source": [
    "done_one = False\n",
    "done_two = False\n",
    "cnt_1 = 0\n",
    "for i, (x, label) in enumerate(zip(X, y)):\n",
    "    if label == 7 and not done_one and cnt_1 > 0:\n",
    "        plt.imshow(x)\n",
    "        plt.show()\n",
    "        x_1 = x\n",
    "        done_one = True\n",
    "    elif label == 8 and not done_two:\n",
    "        plt.imshow(x)\n",
    "        plt.show()\n",
    "        x_2 = x\n",
    "        done_two = True\n",
    "    elif label == 1 and not done_one:\n",
    "        cnt_1 += 1\n",
    "    if done_two and done_one:\n",
    "        break"
   ]
  },
  {
   "cell_type": "markdown",
   "metadata": {},
   "source": [
    "## Применим свертку\n",
    "\n",
    "Проверим результат, 10 раз последовательно применив свертку к нормированному изображению, т.е. предварительно поделим на максимум изображения(255)."
   ]
  },
  {
   "cell_type": "code",
   "execution_count": 7,
   "metadata": {},
   "outputs": [
    {
     "name": "stdout",
     "output_type": "stream",
     "text": [
      "0.003671485529299526\n"
     ]
    },
    {
     "data": {
      "image/png": "[encoded data removed]",
      "text/plain": [
       "<Figure size 432x288 with 2 Axes>"
      ]
     },
     "metadata": {
      "needs_background": "light"
     },
     "output_type": "display_data"
    }
   ],
   "source": [
    "# Цифра 2\n",
    "\n",
    "# Нормировка\n",
    "im_0 = x_2/255\n",
    "\n",
    "# 10 раз последовательно применим фильтр\n",
    "for i in range(10):\n",
    "    im_0 = filter(im_0)\n",
    "\n",
    "# Визуализируем результат\n",
    "plt.imshow(im_0)\n",
    "# Выведем столбец \"интенсивности\"\n",
    "plt.colorbar()\n",
    "\n",
    "# Напечатаем средний отклик на всем изображении\n",
    "print(im_0.mean())"
   ]
  },
  {
   "cell_type": "code",
   "execution_count": 8,
   "metadata": {},
   "outputs": [
    {
     "name": "stdout",
     "output_type": "stream",
     "text": [
      "0.06488323485247707\n"
     ]
    },
    {
     "data": {
      "image/png": "[encoded data removed]",
      "text/plain": [
       "<Figure size 432x288 with 2 Axes>"
      ]
     },
     "metadata": {
      "needs_background": "light"
     },
     "output_type": "display_data"
    }
   ],
   "source": [
    "# Цифра 1\n",
    "\n",
    "# Нормировка\n",
    "im_1 = x_1/255\n",
    "\n",
    "# 10 раз последовательно применим фильтр\n",
    "for i in range(10):\n",
    "    im_1 = filter(im_1)\n",
    "\n",
    "# Визуализируем результат\n",
    "plt.imshow(im_1)\n",
    "\n",
    "# Выведем столбец \"интенсивности\"\n",
    "plt.colorbar()\n",
    "\n",
    "# Напечатаем средний отклик на всем изображении\n",
    "print(im_1.mean())"
   ]
  },
  {
   "cell_type": "markdown",
   "metadata": {},
   "source": [
    "# Pooling\n",
    "\n",
    "- Напишем функцию `pool(img)`, применяющую max-pooling 2х2 для изображения"
   ]
  },
  {
   "cell_type": "code",
   "execution_count": 9,
   "metadata": {},
   "outputs": [],
   "source": [
    "def pool(img):\n",
    "\n",
    "    # Выведем размер исходного изображения(для того, чтобы видеть, как пулинг преобразует изображение)\n",
    "    print(img.shape)\n",
    "\n",
    "    # Результат преобразования\n",
    "    ans = np.zeros((img.shape[0]//2+img.shape[0]%2, img.shape[1]//2+img.shape[1]%2))\n",
    "\n",
    "    # Так как фрагменты 2х2, то шагаем в цикле с длиной 2\n",
    "    for i in range(0, img.shape[0], 2):\n",
    "        for j in range(0, img.shape[1], 2):\n",
    "            # TODO: Реализуйте сам max-pooling\n",
    "            ans[i//2][j//2] = np.max(img[i:i+1, j:j+2])\n",
    "\n",
    "    return ans"
   ]
  },
  {
   "cell_type": "markdown",
   "metadata": {},
   "source": [
    "## Применим свертку+пулинг\n",
    "\n",
    "Проверим результат, 2 раза последовательно применив свертку к нормированному изображению и пулинг."
   ]
  },
  {
   "cell_type": "code",
   "execution_count": 10,
   "metadata": {},
   "outputs": [
    {
     "name": "stdout",
     "output_type": "stream",
     "text": [
      "(26, 26)\n",
      "(11, 11)\n",
      "0.2972645848462842\n"
     ]
    },
    {
     "data": {
      "image/png": "[encoded data removed]",
      "text/plain": [
       "<Figure size 432x288 with 2 Axes>"
      ]
     },
     "metadata": {
      "needs_background": "light"
     },
     "output_type": "display_data"
    }
   ],
   "source": [
    "# Цифра 2\n",
    "\n",
    "# Нормировка\n",
    "im_2 = x_2/255\n",
    "\n",
    "# 2 последовательных преобразования\n",
    "for i in range(2):\n",
    "    im_2 = pool(filter(im_2))\n",
    "\n",
    "# Выведем результат\n",
    "plt.imshow(im_2)\n",
    "\n",
    "# Интенсивность отклика\n",
    "plt.colorbar()\n",
    "\n",
    "# Выведем среднее значение\n",
    "print(im_2.mean())"
   ]
  },
  {
   "cell_type": "code",
   "execution_count": 10,
   "metadata": {},
   "outputs": [
    {
     "name": "stdout",
     "output_type": "stream",
     "text": [
      "(26, 26)\n",
      "(11, 11)\n",
      "0.26259985475671743\n"
     ]
    },
    {
     "data": {
      "image/png": "[encoded data removed]",
      "text/plain": [
       "<Figure size 432x288 with 2 Axes>"
      ]
     },
     "metadata": {
      "needs_background": "light"
     },
     "output_type": "display_data"
    }
   ],
   "source": [
    "# Цифра 1\n",
    "\n",
    "# Нормировка\n",
    "im_1 = x_1/255\n",
    "\n",
    "# 2 последовательных преобразования\n",
    "for i in range(2):\n",
    "    im_1 = pool(filter(im_1))\n",
    "\n",
    "# Выведем результат\n",
    "plt.imshow(im_1)\n",
    "\n",
    "# Интенсивность отклика\n",
    "plt.colorbar()\n",
    "\n",
    "# Выведем среднее значение\n",
    "print(im_1.mean())"
   ]
  },
  {
   "cell_type": "code",
   "execution_count": null,
   "metadata": {},
   "outputs": [],
   "source": []
  }
 ],
 "metadata": {
  "kernelspec": {
   "display_name": "Python 3.9.13 64-bit (windows store)",
   "language": "python",
   "name": "python3"
  },
  "language_info": {
   "codemirror_mode": {
    "name": "ipython",
    "version": 3
   },
   "file_extension": ".py",
   "mimetype": "text/x-python",
   "name": "python",
   "nbconvert_exporter": "python",
   "pygments_lexer": "ipython3",
   "version": "3.9.13"
  },
  "vscode": {
   "interpreter": {
    "hash": "475af2a2bf61f5d2d5da07a32139398273a6c63d4bcb5708329a55ec8fc8beba"
   }
  }
 },
 "nbformat": 4,
 "nbformat_minor": 4
}
